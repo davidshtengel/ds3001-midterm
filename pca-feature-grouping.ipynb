{
 "cells": [
  {
   "cell_type": "code",
   "execution_count": null,
   "id": "fff5fbac",
   "metadata": {},
   "outputs": [],
   "source": [
    "import pandas as pd"
   ]
  },
  {
   "cell_type": "code",
   "execution_count": null,
   "id": "69aa3e37",
   "metadata": {},
   "outputs": [],
   "source": [
    "df = pd.read_csv(\"drug_consumption.csv\")\n",
    "\n",
    "# Using The Drugs Wheel (UK & Ireland DrugWatch) @ https://www.thedrugswheel.com/\n",
    "dissociatives = ['ketamine']\n",
    "depressants = ['alcohol', 'benzos']\n",
    "opioids = ['heroin', 'methadone']\n",
    "cannabinoids = ['cannabis']\n",
    "stimulants = ['amphet', 'caff', 'coke', 'crack', 'nicotine']\n",
    "empathogens = ['ecstasy']\n",
    "psychedelics = ['lsd', 'mushrooms']\n",
    "\n",
    "# seperate to include VSA & Amyl Nitrate\n",
    "inhalants = ['amyl', 'vsa']\n",
    "\n",
    "# EXCLUDE Chocolate & Legal Highs, goal is to predict for potential harm reduction planning/diagnostics\n",
    "# use Principal Component Analysis (PCA) to create new features for the drug classes"
   ]
  }
 ],
 "metadata": {
  "kernelspec": {
   "display_name": "ds-3001",
   "language": "python",
   "name": "python3"
  },
  "language_info": {
   "codemirror_mode": {
    "name": "ipython",
    "version": 3
   },
   "file_extension": ".py",
   "mimetype": "text/x-python",
   "name": "python",
   "nbconvert_exporter": "python",
   "pygments_lexer": "ipython3",
   "version": "3.11.8"
  }
 },
 "nbformat": 4,
 "nbformat_minor": 5
}
